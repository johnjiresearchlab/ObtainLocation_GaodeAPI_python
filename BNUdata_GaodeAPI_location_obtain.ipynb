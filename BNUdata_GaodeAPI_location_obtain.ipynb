{
  "nbformat": 4,
  "nbformat_minor": 0,
  "metadata": {
    "colab": {
      "provenance": [],
      "authorship_tag": "ABX9TyN0A09RrSMtorhze/2xUu0e",
      "include_colab_link": true
    },
    "kernelspec": {
      "name": "python3",
      "display_name": "Python 3"
    },
    "language_info": {
      "name": "python"
    }
  },
  "cells": [
    {
      "cell_type": "markdown",
      "metadata": {
        "id": "view-in-github",
        "colab_type": "text"
      },
      "source": [
        "<a href=\"https://colab.research.google.com/github/remediosz/ObtainLocation_GaodeAPI_python/blob/main/BNUdata_GaodeAPI_location_obtain.ipynb\" target=\"_parent\"><img src=\"https://colab.research.google.com/assets/colab-badge.svg\" alt=\"Open In Colab\"/></a>"
      ]
    },
    {
      "cell_type": "code",
      "execution_count": null,
      "metadata": {
        "id": "ZBtRLzG3mXq5"
      },
      "outputs": [],
      "source": [
        "import csv\n",
        "import requests\n",
        "import json\n",
        "import pandas as pd\n",
        "import re\n",
        "import sys"
      ]
    },
    {
      "cell_type": "code",
      "source": [
        "address = pd.read_excel(\"新增地址名单0411.xlsx\")"
      ],
      "metadata": {
        "id": "ICzxEDyLGULR"
      },
      "execution_count": null,
      "outputs": []
    },
    {
      "cell_type": "code",
      "source": [
        "address"
      ],
      "metadata": {
        "colab": {
          "base_uri": "https://localhost:8080/",
          "height": 424
        },
        "id": "cCYtv4AFGaSH",
        "outputId": "5c80b4b0-ba2d-4cc0-80a5-59be7237d5a0"
      },
      "execution_count": null,
      "outputs": [
        {
          "output_type": "execute_result",
          "data": {
            "text/plain": [
              "                      list                     list北京\n",
              "0              四季青社区卫生服务中心             北京市四季青社区卫生服务中心\n",
              "1              金融街社区卫生服务中心             北京市金融街社区卫生服务中心\n",
              "2               广外社区卫生服务中心              北京市广外社区卫生服务中心\n",
              "3               新中街社区卫生服务站              北京市新中街社区卫生服务站\n",
              "4   南菜园社区卫生服务中心川北小区社区卫生服务站  北京市南菜园社区卫生服务中心川北小区社区卫生服务站\n",
              "..                     ...                        ...\n",
              "64             北郡嘉园社区卫生服务站             北京市北郡嘉园社区卫生服务站\n",
              "65   龙山街道社区卫生服务中心南华社区卫生服务站   北京市龙山街道社区卫生服务中心南华社区卫生服务站\n",
              "66  首都医科大学附属复兴医院月坛社区卫生服务中心  北京市首都医科大学附属复兴医院月坛社区卫生服务中心\n",
              "67  南菜园社区卫生服务中心双路小区社区卫生服务站  北京市南菜园社区卫生服务中心双路小区社区卫生服务站\n",
              "68          东坝第二社区核桃园卫生服务站          北京市东坝第二社区核桃园卫生服务站\n",
              "\n",
              "[69 rows x 2 columns]"
            ],
            "text/html": [
              "\n",
              "  <div id=\"df-84e14069-f8b9-4f1d-8a16-b21643aa9df7\">\n",
              "    <div class=\"colab-df-container\">\n",
              "      <div>\n",
              "<style scoped>\n",
              "    .dataframe tbody tr th:only-of-type {\n",
              "        vertical-align: middle;\n",
              "    }\n",
              "\n",
              "    .dataframe tbody tr th {\n",
              "        vertical-align: top;\n",
              "    }\n",
              "\n",
              "    .dataframe thead th {\n",
              "        text-align: right;\n",
              "    }\n",
              "</style>\n",
              "<table border=\"1\" class=\"dataframe\">\n",
              "  <thead>\n",
              "    <tr style=\"text-align: right;\">\n",
              "      <th></th>\n",
              "      <th>list</th>\n",
              "      <th>list北京</th>\n",
              "    </tr>\n",
              "  </thead>\n",
              "  <tbody>\n",
              "    <tr>\n",
              "      <th>0</th>\n",
              "      <td>四季青社区卫生服务中心</td>\n",
              "      <td>北京市四季青社区卫生服务中心</td>\n",
              "    </tr>\n",
              "    <tr>\n",
              "      <th>1</th>\n",
              "      <td>金融街社区卫生服务中心</td>\n",
              "      <td>北京市金融街社区卫生服务中心</td>\n",
              "    </tr>\n",
              "    <tr>\n",
              "      <th>2</th>\n",
              "      <td>广外社区卫生服务中心</td>\n",
              "      <td>北京市广外社区卫生服务中心</td>\n",
              "    </tr>\n",
              "    <tr>\n",
              "      <th>3</th>\n",
              "      <td>新中街社区卫生服务站</td>\n",
              "      <td>北京市新中街社区卫生服务站</td>\n",
              "    </tr>\n",
              "    <tr>\n",
              "      <th>4</th>\n",
              "      <td>南菜园社区卫生服务中心川北小区社区卫生服务站</td>\n",
              "      <td>北京市南菜园社区卫生服务中心川北小区社区卫生服务站</td>\n",
              "    </tr>\n",
              "    <tr>\n",
              "      <th>...</th>\n",
              "      <td>...</td>\n",
              "      <td>...</td>\n",
              "    </tr>\n",
              "    <tr>\n",
              "      <th>64</th>\n",
              "      <td>北郡嘉园社区卫生服务站</td>\n",
              "      <td>北京市北郡嘉园社区卫生服务站</td>\n",
              "    </tr>\n",
              "    <tr>\n",
              "      <th>65</th>\n",
              "      <td>龙山街道社区卫生服务中心南华社区卫生服务站</td>\n",
              "      <td>北京市龙山街道社区卫生服务中心南华社区卫生服务站</td>\n",
              "    </tr>\n",
              "    <tr>\n",
              "      <th>66</th>\n",
              "      <td>首都医科大学附属复兴医院月坛社区卫生服务中心</td>\n",
              "      <td>北京市首都医科大学附属复兴医院月坛社区卫生服务中心</td>\n",
              "    </tr>\n",
              "    <tr>\n",
              "      <th>67</th>\n",
              "      <td>南菜园社区卫生服务中心双路小区社区卫生服务站</td>\n",
              "      <td>北京市南菜园社区卫生服务中心双路小区社区卫生服务站</td>\n",
              "    </tr>\n",
              "    <tr>\n",
              "      <th>68</th>\n",
              "      <td>东坝第二社区核桃园卫生服务站</td>\n",
              "      <td>北京市东坝第二社区核桃园卫生服务站</td>\n",
              "    </tr>\n",
              "  </tbody>\n",
              "</table>\n",
              "<p>69 rows × 2 columns</p>\n",
              "</div>\n",
              "      <button class=\"colab-df-convert\" onclick=\"convertToInteractive('df-84e14069-f8b9-4f1d-8a16-b21643aa9df7')\"\n",
              "              title=\"Convert this dataframe to an interactive table.\"\n",
              "              style=\"display:none;\">\n",
              "        \n",
              "  <svg xmlns=\"http://www.w3.org/2000/svg\" height=\"24px\"viewBox=\"0 0 24 24\"\n",
              "       width=\"24px\">\n",
              "    <path d=\"M0 0h24v24H0V0z\" fill=\"none\"/>\n",
              "    <path d=\"M18.56 5.44l.94 2.06.94-2.06 2.06-.94-2.06-.94-.94-2.06-.94 2.06-2.06.94zm-11 1L8.5 8.5l.94-2.06 2.06-.94-2.06-.94L8.5 2.5l-.94 2.06-2.06.94zm10 10l.94 2.06.94-2.06 2.06-.94-2.06-.94-.94-2.06-.94 2.06-2.06.94z\"/><path d=\"M17.41 7.96l-1.37-1.37c-.4-.4-.92-.59-1.43-.59-.52 0-1.04.2-1.43.59L10.3 9.45l-7.72 7.72c-.78.78-.78 2.05 0 2.83L4 21.41c.39.39.9.59 1.41.59.51 0 1.02-.2 1.41-.59l7.78-7.78 2.81-2.81c.8-.78.8-2.07 0-2.86zM5.41 20L4 18.59l7.72-7.72 1.47 1.35L5.41 20z\"/>\n",
              "  </svg>\n",
              "      </button>\n",
              "      \n",
              "  <style>\n",
              "    .colab-df-container {\n",
              "      display:flex;\n",
              "      flex-wrap:wrap;\n",
              "      gap: 12px;\n",
              "    }\n",
              "\n",
              "    .colab-df-convert {\n",
              "      background-color: #E8F0FE;\n",
              "      border: none;\n",
              "      border-radius: 50%;\n",
              "      cursor: pointer;\n",
              "      display: none;\n",
              "      fill: #1967D2;\n",
              "      height: 32px;\n",
              "      padding: 0 0 0 0;\n",
              "      width: 32px;\n",
              "    }\n",
              "\n",
              "    .colab-df-convert:hover {\n",
              "      background-color: #E2EBFA;\n",
              "      box-shadow: 0px 1px 2px rgba(60, 64, 67, 0.3), 0px 1px 3px 1px rgba(60, 64, 67, 0.15);\n",
              "      fill: #174EA6;\n",
              "    }\n",
              "\n",
              "    [theme=dark] .colab-df-convert {\n",
              "      background-color: #3B4455;\n",
              "      fill: #D2E3FC;\n",
              "    }\n",
              "\n",
              "    [theme=dark] .colab-df-convert:hover {\n",
              "      background-color: #434B5C;\n",
              "      box-shadow: 0px 1px 3px 1px rgba(0, 0, 0, 0.15);\n",
              "      filter: drop-shadow(0px 1px 2px rgba(0, 0, 0, 0.3));\n",
              "      fill: #FFFFFF;\n",
              "    }\n",
              "  </style>\n",
              "\n",
              "      <script>\n",
              "        const buttonEl =\n",
              "          document.querySelector('#df-84e14069-f8b9-4f1d-8a16-b21643aa9df7 button.colab-df-convert');\n",
              "        buttonEl.style.display =\n",
              "          google.colab.kernel.accessAllowed ? 'block' : 'none';\n",
              "\n",
              "        async function convertToInteractive(key) {\n",
              "          const element = document.querySelector('#df-84e14069-f8b9-4f1d-8a16-b21643aa9df7');\n",
              "          const dataTable =\n",
              "            await google.colab.kernel.invokeFunction('convertToInteractive',\n",
              "                                                     [key], {});\n",
              "          if (!dataTable) return;\n",
              "\n",
              "          const docLinkHtml = 'Like what you see? Visit the ' +\n",
              "            '<a target=\"_blank\" href=https://colab.research.google.com/notebooks/data_table.ipynb>data table notebook</a>'\n",
              "            + ' to learn more about interactive tables.';\n",
              "          element.innerHTML = '';\n",
              "          dataTable['output_type'] = 'display_data';\n",
              "          await google.colab.output.renderOutput(dataTable, element);\n",
              "          const docLink = document.createElement('div');\n",
              "          docLink.innerHTML = docLinkHtml;\n",
              "          element.appendChild(docLink);\n",
              "        }\n",
              "      </script>\n",
              "    </div>\n",
              "  </div>\n",
              "  "
            ]
          },
          "metadata": {},
          "execution_count": 34
        }
      ]
    },
    {
      "cell_type": "code",
      "source": [
        "list1 = list(address['list北京'])"
      ],
      "metadata": {
        "id": "Vuu8-6OOoJxK"
      },
      "execution_count": null,
      "outputs": []
    },
    {
      "cell_type": "code",
      "source": [
        "list1"
      ],
      "metadata": {
        "colab": {
          "base_uri": "https://localhost:8080/"
        },
        "id": "JJjzQeJo1nIi",
        "outputId": "c8e379ef-2111-4e58-c1ee-293816588c1b"
      },
      "execution_count": null,
      "outputs": [
        {
          "output_type": "execute_result",
          "data": {
            "text/plain": [
              "['北京市四季青社区卫生服务中心',\n",
              " '北京市金融街社区卫生服务中心',\n",
              " '北京市广外社区卫生服务中心',\n",
              " '北京市新中街社区卫生服务站',\n",
              " '北京市南菜园社区卫生服务中心川北小区社区卫生服务站',\n",
              " '北京市宝山镇卫生院（宝山镇社区卫生服务中心）',\n",
              " '北京市延寿社区卫生服务中心北庄社区卫生服务站',\n",
              " '北京市燕山东风街道羊耳峪社区卫生服务站',\n",
              " '北京市张镇卫生院张各庄社区卫生服务站',\n",
              " '北京市张镇卫生院良山社区卫生服务站',\n",
              " '北京市张镇卫生院赵各庄社区卫生服务站',\n",
              " '北京市后沙峪社区卫生服务中心（空港）',\n",
              " '北京市兴寿社区卫生服务中心东营社区卫生服务站',\n",
              " '北京市山东庄镇小北关社区卫生服务站',\n",
              " '北京市回龙观社区卫生服务中心龙腾苑四区社区卫生服务站',\n",
              " '北京市张镇卫生院后苏桥社区卫生服务站',\n",
              " '北京市平房地区石各庄社区卫生服务站',\n",
              " '北京市龙湾屯镇卫生院大北坞社区卫生服务站',\n",
              " '北京市兴寿社区卫生服务中心上西市社区卫生服务站',\n",
              " '北京市延寿社区卫生服务中心黑山寨社区卫生服务站',\n",
              " '北京市张镇社区卫生服务中心浅山香邑服务站',\n",
              " '北京市李桥镇社区卫生服务中心半壁店社区卫生服务站',\n",
              " '北京市仁和镇卫生院河南村社区卫生服务站',\n",
              " '北京市延寿社区卫生服务中心下庄社区卫生服务站',\n",
              " '北京市杨镇沙岭社区卫生服务中心曾庄社区卫生服务站',\n",
              " '北京市回龙观社区卫生服务中心龙城花园社区卫生服务站',\n",
              " '北京市平房地区亮马厂社区卫生服务站',\n",
              " '北京市金星卫生院',\n",
              " '北京市延寿社区卫生服务中心下口社区卫生服务站',\n",
              " '北京市延寿社区卫生服务中心慈悲峪社区卫生服务站',\n",
              " '北京市测试医院2',\n",
              " '北京市平房地区华纺易城社区卫生服务站',\n",
              " '北京市燕山东风社区卫生服务中心',\n",
              " '北京市千家店社区卫生服务中心',\n",
              " '北京市城区社区卫生服务中心(顺义）',\n",
              " '北京市城区社区卫生服务中心（昌平）',\n",
              " '北京市平房地区黄渠社区卫生服务站',\n",
              " '北京市南菜园社区卫生服务中心新兴小区社区卫生服务站',\n",
              " '北京市沙河社区卫生服务中心沙阳路社区卫生服务站',\n",
              " '北京市木林社区卫生服务中心贾山社区卫生服务站',\n",
              " '北京市第二医院 （汤河口镇社区卫生服务中心）',\n",
              " '北京市沙河高教园区社区卫生服务中心北街家园社区卫生服务站',\n",
              " '北京市沙河高教园区社区卫生服务中心五福家园社区卫生服务站',\n",
              " '北京市新村街道新村社区卫生服务站',\n",
              " '北京市仁和镇卫生院临河社区卫生服务站',\n",
              " '北京市沙河社区卫生服务中心老牛湾社区卫生服务站',\n",
              " '北京市仁和镇卫生院复兴社区卫生服务站',\n",
              " '北京市沙河社区卫生服务中心七里渠社区卫生服务站',\n",
              " '北京市第二医院(杨镇社区卫生服务中心)',\n",
              " '北京市城区社区卫生服务中心双兴南区社区卫生服务站',\n",
              " '北京市沙河社区卫生服务中心松兰堡社区卫生服务站',\n",
              " '北京市回龙观社区卫生服务中心融泽嘉园社区卫生服务站',\n",
              " '北京市峪口镇中桥社区卫生服务站',\n",
              " '北京市霍营卫生服务中心流星站',\n",
              " '北京市李桥镇社区卫生服务中心英各庄社区卫生服务站',\n",
              " '北京市沙河高教园区社区卫生服务中心兆丰家园社区卫生服务站',\n",
              " '北京市李桥镇卫生院头二营社区卫生服务站',\n",
              " '北京市黄村医院',\n",
              " '北京市王四营地区观音堂社区卫生服务站',\n",
              " '北京市张山营社区卫生服务中心',\n",
              " '北京市霞云岭卫生服务中心',\n",
              " '北京市第二医院（汤河口镇社区卫生服务中心）',\n",
              " '北京市牛街社区卫生服务中心春风站',\n",
              " '北京市八角街道南路社区卫生服务站',\n",
              " '北京市北郡嘉园社区卫生服务站',\n",
              " '北京市龙山街道社区卫生服务中心南华社区卫生服务站',\n",
              " '北京市首都医科大学附属复兴医院月坛社区卫生服务中心',\n",
              " '北京市南菜园社区卫生服务中心双路小区社区卫生服务站',\n",
              " '北京市东坝第二社区核桃园卫生服务站']"
            ]
          },
          "metadata": {},
          "execution_count": 37
        }
      ]
    },
    {
      "cell_type": "code",
      "source": [
        "def coords(city):\n",
        "    url = 'https://restapi.amap.com/v3/geocode/geo'   # 输入API问号前固定不变的部分\n",
        "    params = { 'key': '(need to fill in)', #请在此处放置你的高德API账号中的key\n",
        "               'address': city }                    # 将两个参数放入字典\n",
        "    res = requests.get(url, params)\n",
        "    jd =  json.loads(res.text)\n",
        "\n",
        "    return jd['geocodes'][0]['location']"
      ],
      "metadata": {
        "id": "eG3Q97ETx03u"
      },
      "execution_count": null,
      "outputs": []
    },
    {
      "cell_type": "code",
      "source": [
        "# for check (select only one address)\n",
        "address01=coords('黑庄户地区小鲁店社区卫生服务站')"
      ],
      "metadata": {
        "id": "qI3JTIhX8GNg"
      },
      "execution_count": null,
      "outputs": []
    },
    {
      "cell_type": "code",
      "source": [
        "address01"
      ],
      "metadata": {
        "colab": {
          "base_uri": "https://localhost:8080/",
          "height": 35
        },
        "id": "Y4ZA_jpC8OlX",
        "outputId": "989b373a-f064-4ecf-9e34-44a44d8f7093"
      },
      "execution_count": null,
      "outputs": [
        {
          "output_type": "execute_result",
          "data": {
            "text/plain": [
              "'116.589607,39.844170'"
            ],
            "application/vnd.google.colaboratory.intrinsic+json": {
              "type": "string"
            }
          },
          "metadata": {},
          "execution_count": 27
        }
      ]
    },
    {
      "cell_type": "code",
      "source": [
        "address1=list1"
      ],
      "metadata": {
        "id": "hi-5gcqgD5Lh"
      },
      "execution_count": null,
      "outputs": []
    },
    {
      "cell_type": "code",
      "source": [
        "address_list1 = [coords(i) for i in address1]"
      ],
      "metadata": {
        "id": "w3xw_cPk-33i"
      },
      "execution_count": null,
      "outputs": []
    },
    {
      "cell_type": "code",
      "source": [
        "combine1={'name':address1,'location':address_list1}\n",
        "chaoyang_df=pd.DataFrame(combine1)\n",
        "#chaoyang_df = pd.concat([address1,address_list1],axis=1)\n",
        "#chaoyang_df.columns = ['name', 'location']"
      ],
      "metadata": {
        "id": "4oCZdCi1EKdP"
      },
      "execution_count": null,
      "outputs": []
    },
    {
      "cell_type": "code",
      "source": [
        "chaoyang_df['longitude'] = chaoyang_df['location'].map(lambda x:x.split(',')[0])\n",
        "chaoyang_df['latitude'] = chaoyang_df['location'].map(lambda x:x.split(',')[1])"
      ],
      "metadata": {
        "id": "rjQSZXb5EWSq"
      },
      "execution_count": null,
      "outputs": []
    },
    {
      "cell_type": "code",
      "source": [
        "chaoyang_df"
      ],
      "metadata": {
        "colab": {
          "base_uri": "https://localhost:8080/",
          "height": 424
        },
        "id": "0oW3dXXFGDZR",
        "outputId": "7d899681-ce23-4599-aeba-67dc97820d79"
      },
      "execution_count": null,
      "outputs": [
        {
          "output_type": "execute_result",
          "data": {
            "text/plain": [
              "                         name              location   longitude   latitude\n",
              "0              北京市四季青社区卫生服务中心  116.722466,39.675769  116.722466  39.675769\n",
              "1              北京市金融街社区卫生服务中心  116.362061,39.923614  116.362061  39.923614\n",
              "2               北京市广外社区卫生服务中心  116.345460,39.890477  116.345460  39.890477\n",
              "3               北京市新中街社区卫生服务站  116.438565,39.935688  116.438565  39.935688\n",
              "4   北京市南菜园社区卫生服务中心川北小区社区卫生服务站  115.983486,40.449810  115.983486  40.449810\n",
              "..                        ...                   ...         ...        ...\n",
              "64             北京市北郡嘉园社区卫生服务站  116.379132,39.842241  116.379132  39.842241\n",
              "65   北京市龙山街道社区卫生服务中心南华社区卫生服务站  116.635736,40.309827  116.635736  40.309827\n",
              "66  北京市首都医科大学附属复兴医院月坛社区卫生服务中心  116.349083,39.902402  116.349083  39.902402\n",
              "67  北京市南菜园社区卫生服务中心双路小区社区卫生服务站  115.983486,40.449810  115.983486  40.449810\n",
              "68          北京市东坝第二社区核桃园卫生服务站  116.548703,39.959982  116.548703  39.959982\n",
              "\n",
              "[69 rows x 4 columns]"
            ],
            "text/html": [
              "\n",
              "  <div id=\"df-cc1f89fe-c02a-441c-aa86-e41dc29fe026\">\n",
              "    <div class=\"colab-df-container\">\n",
              "      <div>\n",
              "<style scoped>\n",
              "    .dataframe tbody tr th:only-of-type {\n",
              "        vertical-align: middle;\n",
              "    }\n",
              "\n",
              "    .dataframe tbody tr th {\n",
              "        vertical-align: top;\n",
              "    }\n",
              "\n",
              "    .dataframe thead th {\n",
              "        text-align: right;\n",
              "    }\n",
              "</style>\n",
              "<table border=\"1\" class=\"dataframe\">\n",
              "  <thead>\n",
              "    <tr style=\"text-align: right;\">\n",
              "      <th></th>\n",
              "      <th>name</th>\n",
              "      <th>location</th>\n",
              "      <th>longitude</th>\n",
              "      <th>latitude</th>\n",
              "    </tr>\n",
              "  </thead>\n",
              "  <tbody>\n",
              "    <tr>\n",
              "      <th>0</th>\n",
              "      <td>北京市四季青社区卫生服务中心</td>\n",
              "      <td>116.722466,39.675769</td>\n",
              "      <td>116.722466</td>\n",
              "      <td>39.675769</td>\n",
              "    </tr>\n",
              "    <tr>\n",
              "      <th>1</th>\n",
              "      <td>北京市金融街社区卫生服务中心</td>\n",
              "      <td>116.362061,39.923614</td>\n",
              "      <td>116.362061</td>\n",
              "      <td>39.923614</td>\n",
              "    </tr>\n",
              "    <tr>\n",
              "      <th>2</th>\n",
              "      <td>北京市广外社区卫生服务中心</td>\n",
              "      <td>116.345460,39.890477</td>\n",
              "      <td>116.345460</td>\n",
              "      <td>39.890477</td>\n",
              "    </tr>\n",
              "    <tr>\n",
              "      <th>3</th>\n",
              "      <td>北京市新中街社区卫生服务站</td>\n",
              "      <td>116.438565,39.935688</td>\n",
              "      <td>116.438565</td>\n",
              "      <td>39.935688</td>\n",
              "    </tr>\n",
              "    <tr>\n",
              "      <th>4</th>\n",
              "      <td>北京市南菜园社区卫生服务中心川北小区社区卫生服务站</td>\n",
              "      <td>115.983486,40.449810</td>\n",
              "      <td>115.983486</td>\n",
              "      <td>40.449810</td>\n",
              "    </tr>\n",
              "    <tr>\n",
              "      <th>...</th>\n",
              "      <td>...</td>\n",
              "      <td>...</td>\n",
              "      <td>...</td>\n",
              "      <td>...</td>\n",
              "    </tr>\n",
              "    <tr>\n",
              "      <th>64</th>\n",
              "      <td>北京市北郡嘉园社区卫生服务站</td>\n",
              "      <td>116.379132,39.842241</td>\n",
              "      <td>116.379132</td>\n",
              "      <td>39.842241</td>\n",
              "    </tr>\n",
              "    <tr>\n",
              "      <th>65</th>\n",
              "      <td>北京市龙山街道社区卫生服务中心南华社区卫生服务站</td>\n",
              "      <td>116.635736,40.309827</td>\n",
              "      <td>116.635736</td>\n",
              "      <td>40.309827</td>\n",
              "    </tr>\n",
              "    <tr>\n",
              "      <th>66</th>\n",
              "      <td>北京市首都医科大学附属复兴医院月坛社区卫生服务中心</td>\n",
              "      <td>116.349083,39.902402</td>\n",
              "      <td>116.349083</td>\n",
              "      <td>39.902402</td>\n",
              "    </tr>\n",
              "    <tr>\n",
              "      <th>67</th>\n",
              "      <td>北京市南菜园社区卫生服务中心双路小区社区卫生服务站</td>\n",
              "      <td>115.983486,40.449810</td>\n",
              "      <td>115.983486</td>\n",
              "      <td>40.449810</td>\n",
              "    </tr>\n",
              "    <tr>\n",
              "      <th>68</th>\n",
              "      <td>北京市东坝第二社区核桃园卫生服务站</td>\n",
              "      <td>116.548703,39.959982</td>\n",
              "      <td>116.548703</td>\n",
              "      <td>39.959982</td>\n",
              "    </tr>\n",
              "  </tbody>\n",
              "</table>\n",
              "<p>69 rows × 4 columns</p>\n",
              "</div>\n",
              "      <button class=\"colab-df-convert\" onclick=\"convertToInteractive('df-cc1f89fe-c02a-441c-aa86-e41dc29fe026')\"\n",
              "              title=\"Convert this dataframe to an interactive table.\"\n",
              "              style=\"display:none;\">\n",
              "        \n",
              "  <svg xmlns=\"http://www.w3.org/2000/svg\" height=\"24px\"viewBox=\"0 0 24 24\"\n",
              "       width=\"24px\">\n",
              "    <path d=\"M0 0h24v24H0V0z\" fill=\"none\"/>\n",
              "    <path d=\"M18.56 5.44l.94 2.06.94-2.06 2.06-.94-2.06-.94-.94-2.06-.94 2.06-2.06.94zm-11 1L8.5 8.5l.94-2.06 2.06-.94-2.06-.94L8.5 2.5l-.94 2.06-2.06.94zm10 10l.94 2.06.94-2.06 2.06-.94-2.06-.94-.94-2.06-.94 2.06-2.06.94z\"/><path d=\"M17.41 7.96l-1.37-1.37c-.4-.4-.92-.59-1.43-.59-.52 0-1.04.2-1.43.59L10.3 9.45l-7.72 7.72c-.78.78-.78 2.05 0 2.83L4 21.41c.39.39.9.59 1.41.59.51 0 1.02-.2 1.41-.59l7.78-7.78 2.81-2.81c.8-.78.8-2.07 0-2.86zM5.41 20L4 18.59l7.72-7.72 1.47 1.35L5.41 20z\"/>\n",
              "  </svg>\n",
              "      </button>\n",
              "      \n",
              "  <style>\n",
              "    .colab-df-container {\n",
              "      display:flex;\n",
              "      flex-wrap:wrap;\n",
              "      gap: 12px;\n",
              "    }\n",
              "\n",
              "    .colab-df-convert {\n",
              "      background-color: #E8F0FE;\n",
              "      border: none;\n",
              "      border-radius: 50%;\n",
              "      cursor: pointer;\n",
              "      display: none;\n",
              "      fill: #1967D2;\n",
              "      height: 32px;\n",
              "      padding: 0 0 0 0;\n",
              "      width: 32px;\n",
              "    }\n",
              "\n",
              "    .colab-df-convert:hover {\n",
              "      background-color: #E2EBFA;\n",
              "      box-shadow: 0px 1px 2px rgba(60, 64, 67, 0.3), 0px 1px 3px 1px rgba(60, 64, 67, 0.15);\n",
              "      fill: #174EA6;\n",
              "    }\n",
              "\n",
              "    [theme=dark] .colab-df-convert {\n",
              "      background-color: #3B4455;\n",
              "      fill: #D2E3FC;\n",
              "    }\n",
              "\n",
              "    [theme=dark] .colab-df-convert:hover {\n",
              "      background-color: #434B5C;\n",
              "      box-shadow: 0px 1px 3px 1px rgba(0, 0, 0, 0.15);\n",
              "      filter: drop-shadow(0px 1px 2px rgba(0, 0, 0, 0.3));\n",
              "      fill: #FFFFFF;\n",
              "    }\n",
              "  </style>\n",
              "\n",
              "      <script>\n",
              "        const buttonEl =\n",
              "          document.querySelector('#df-cc1f89fe-c02a-441c-aa86-e41dc29fe026 button.colab-df-convert');\n",
              "        buttonEl.style.display =\n",
              "          google.colab.kernel.accessAllowed ? 'block' : 'none';\n",
              "\n",
              "        async function convertToInteractive(key) {\n",
              "          const element = document.querySelector('#df-cc1f89fe-c02a-441c-aa86-e41dc29fe026');\n",
              "          const dataTable =\n",
              "            await google.colab.kernel.invokeFunction('convertToInteractive',\n",
              "                                                     [key], {});\n",
              "          if (!dataTable) return;\n",
              "\n",
              "          const docLinkHtml = 'Like what you see? Visit the ' +\n",
              "            '<a target=\"_blank\" href=https://colab.research.google.com/notebooks/data_table.ipynb>data table notebook</a>'\n",
              "            + ' to learn more about interactive tables.';\n",
              "          element.innerHTML = '';\n",
              "          dataTable['output_type'] = 'display_data';\n",
              "          await google.colab.output.renderOutput(dataTable, element);\n",
              "          const docLink = document.createElement('div');\n",
              "          docLink.innerHTML = docLinkHtml;\n",
              "          element.appendChild(docLink);\n",
              "        }\n",
              "      </script>\n",
              "    </div>\n",
              "  </div>\n",
              "  "
            ]
          },
          "metadata": {},
          "execution_count": 43
        }
      ]
    },
    {
      "cell_type": "code",
      "source": [
        "chaoyang_df.to_csv('/content/chaoyang.csv', encoding='utf-8', index=False)"
      ],
      "metadata": {
        "id": "8DCPvqGhsKq4"
      },
      "execution_count": null,
      "outputs": []
    },
    {
      "cell_type": "markdown",
      "source": [
        "**Reference**\n",
        "\n",
        "https://lbs.amap.com/api/webservice/guide/api/georegeo\n",
        "\n",
        "https://its201.com/article/gjgfjgy/112443653\n",
        "\n",
        "https://blog.csdn.net/u013250416/article/details/71178156\n",
        "\n",
        "https://blog.csdn.net/weixin_39997696/article/details/110362516\n",
        "\n",
        "https://zhuanlan.zhihu.com/p/268363938 高德转84\n"
      ],
      "metadata": {
        "id": "N3JmPeUIms9z"
      }
    }
  ]
}
